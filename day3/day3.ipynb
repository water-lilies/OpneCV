{
 "cells": [
  {
   "cell_type": "markdown",
   "metadata": {},
   "source": [
    "# Filter"
   ]
  },
  {
   "cell_type": "code",
   "execution_count": 12,
   "metadata": {},
   "outputs": [],
   "source": [
    "import scipy.stats as sp\n",
    "import numpy as np\n",
    "import matplotlib.pyplot as plt\n",
    "%matplotlib inline\n",
    "import cv2\n",
    "from PIL import ImageFont, ImageDraw, Image"
   ]
  },
  {
   "cell_type": "code",
   "execution_count": 2,
   "metadata": {},
   "outputs": [
    {
     "name": "stdout",
     "output_type": "stream",
     "text": [
      "[[1 2 3]\n",
      " [4 5 6]\n",
      " [7 8 9]]\n"
     ]
    }
   ],
   "source": [
    "img = np.array([\n",
    "    [1,2,3],\n",
    "    [4,5,6],\n",
    "    [7,8,9]\n",
    "], dtype=\"uint8\")\n",
    "\n",
    "kernel = np.array([[0,0,0],\n",
    "                  [0,1,0],\n",
    "                  [0,0,0]])     # 원본이미지가 그대로 나온다.\n",
    "filtered = cv2.filter2D(img, -1, kernel)\n",
    "print(filtered) "
   ]
  },
  {
   "cell_type": "code",
   "execution_count": 3,
   "metadata": {},
   "outputs": [
    {
     "name": "stdout",
     "output_type": "stream",
     "text": [
      "[[5 4 5]\n",
      " [2 1 2]\n",
      " [5 4 5]]\n"
     ]
    }
   ],
   "source": [
    "img = np.array([\n",
    "    [1,2,3],\n",
    "    [4,5,6],\n",
    "    [7,8,9]\n",
    "], dtype=\"uint8\")\n",
    "\n",
    "kernel = np.array([[1,0,0],    # 1자리에 있는 픽셀만 계산하겠다!\n",
    "                  [0,0,0],\n",
    "                  [0,0,0]])     \n",
    "filtered = cv2.filter2D(img, -1, kernel)\n",
    "print(filtered) \n",
    "\n",
    "# 9개 픽셀을 계산했을때, \n",
    "'''\n",
    "5   4   5  ㅁ ㅁ\n",
    "   ㅡ ㅡ ㅡ ㅡ\n",
    "2 |*1*  2  3 |ㅁ \n",
    "5 | 4   5  6 |ㅁ\n",
    "ㅁ| 7   8  9 |ㅁ\n",
    "   ㅡ ㅡ ㅡ ㅡ\n",
    " ㅁ ㅁ ㅁ ㅁ ㅁ\n",
    "'''\n",
    "# 계산하고자 하는 기준픽셀의 대각선 자리에 있는 값을 가져온다.\n",
    "# 거울을 놓은 것 처럼 reflection 된 것!"
   ]
  },
  {
   "cell_type": "code",
   "execution_count": 4,
   "metadata": {},
   "outputs": [
    {
     "name": "stdout",
     "output_type": "stream",
     "text": [
      "[[4 5 6]\n",
      " [1 2 3]\n",
      " [4 5 6]]\n"
     ]
    }
   ],
   "source": [
    "img = np.array([\n",
    "    [1,2,3],\n",
    "    [4,5,6],\n",
    "    [7,8,9]\n",
    "], dtype=\"uint8\")\n",
    "\n",
    "kernel = np.array([[0,1,0],\n",
    "                  [0,0,0],\n",
    "                  [0,0,0]])     \n",
    "filtered = cv2.filter2D(img, -1, kernel)\n",
    "print(filtered) "
   ]
  },
  {
   "cell_type": "code",
   "execution_count": 5,
   "metadata": {},
   "outputs": [
    {
     "name": "stdout",
     "output_type": "stream",
     "text": [
      "[[ 4  4  4]\n",
      " [10 10 10]\n",
      " [16 16 16]]\n"
     ]
    }
   ],
   "source": [
    "img = np.array([\n",
    "    [1,2,3],\n",
    "    [4,5,6],\n",
    "    [7,8,9]\n",
    "], dtype=\"uint8\")\n",
    "\n",
    "kernel = np.array([[0,0,0],\n",
    "                  [1,0,1],    # 좌우값을 더한 값이 나타남. \n",
    "                  [0,0,0]])     \n",
    "filtered = cv2.filter2D(img, -1, kernel)\n",
    "print(filtered) "
   ]
  },
  {
   "cell_type": "markdown",
   "metadata": {},
   "source": [
    "## 패딩 정규화"
   ]
  },
  {
   "cell_type": "code",
   "execution_count": 8,
   "metadata": {},
   "outputs": [
    {
     "name": "stdout",
     "output_type": "stream",
     "text": [
      "[[ 0. -2.  0.]\n",
      " [ 0.  0.  0.]\n",
      " [ 0. -2.  0.]]\n"
     ]
    }
   ],
   "source": [
    "img = np.array([\n",
    "      [1,2,3],\n",
    "    [200,5,200],\n",
    "    [7,8,9]\n",
    "], dtype=\"float\")\n",
    "\n",
    "kernel = np.array([[0,0,0],\n",
    "                   [1,0,-1],\n",
    "                   [0,0,0]\n",
    "                  ])\n",
    "filtered = cv2.filter2D(img, -1, kernel)\n",
    "print(filtered)"
   ]
  },
  {
   "cell_type": "code",
   "execution_count": 9,
   "metadata": {},
   "outputs": [
    {
     "name": "stdout",
     "output_type": "stream",
     "text": [
      "[[[  0   0   0]\n",
      "  [254 254 254]\n",
      "  [  0   0   0]]\n",
      "\n",
      " [[  0   0   0]\n",
      "  [  0   0   0]\n",
      "  [  0   0   0]]\n",
      "\n",
      " [[  0   0   0]\n",
      "  [254 254 254]\n",
      "  [  0   0   0]]]\n"
     ]
    }
   ],
   "source": [
    "cv2.imwrite(\"output.png\", filtered.astype('uint8'))\n",
    "\n",
    "img = cv2.imread(\"output.png\")\n",
    "print(img)"
   ]
  },
  {
   "cell_type": "code",
   "execution_count": 17,
   "metadata": {},
   "outputs": [
    {
     "name": "stdout",
     "output_type": "stream",
     "text": [
      "[[255.   0. 255.]\n",
      " [255. 255. 255.]\n",
      " [255.   0. 255.]]\n",
      "[[  0. 255.   0.]\n",
      " [  0.   0.   0.]\n",
      " [  0. 255.   0.]]\n",
      "[[255   0 255]\n",
      " [255 255 255]\n",
      " [255   0 255]]\n"
     ]
    }
   ],
   "source": [
    "ma = np.max(filtered)\n",
    "mm = np.min(filtered)\n",
    "\n",
    "n = (filtered - mm) / (ma - mm) * 255   # -2~0 -> 0~255\n",
    "print(n)\n",
    "# 수동으로 minmax값 계산해서 정규화\n",
    "\n",
    "n2 = np.abs(filtered) / np.max(np.abs(filtered))* 255   # 0~2 -> 0~255\n",
    "print(n2)\n",
    "\n",
    "norm = cv2.normalize(filtered, None, 0 , 255, cv2.NORM_MINMAX)\n",
    "norm = norm.astype('uint8')\n",
    "print(norm)\n",
    "# 자동으로 함수 이용해서 정규화\n",
    "# 정규화하는 이유는, 눈으로 영상을 보기위해서. 계산하기위해서가 아님."
   ]
  },
  {
   "cell_type": "code",
   "execution_count": 26,
   "metadata": {},
   "outputs": [
    {
     "name": "stdout",
     "output_type": "stream",
     "text": [
      "-190\n",
      "170\n",
      "0\n",
      "255\n"
     ]
    },
    {
     "data": {
      "text/plain": [
       "True"
      ]
     },
     "execution_count": 26,
     "metadata": {},
     "output_type": "execute_result"
    }
   ],
   "source": [
    "src = cv2.imread('lena.png', cv2.IMREAD_GRAYSCALE)\n",
    "src2 = src.astype('int16')\n",
    "\n",
    "kernel = np.array([[0,1,0],\n",
    "                   [0,0,0],\n",
    "                   [0,-1,0]\n",
    "                  ])\n",
    "\n",
    "filtered = cv2.filter2D(src2, -1, kernel)\n",
    "print(np.min(filtered))\n",
    "print(np.max(filtered))\n",
    "cv2.imwrite(\"output.png\", filtered)\n",
    "\n",
    "\n",
    "filtered2 = cv2.filter2D(src2, -1, kernel) + 128\n",
    "cv2.imwrite(\"output2.png\", filtered2)\n",
    "\n",
    "\n",
    "filtered3 = cv2.normalize(filtered, None, 0, 255, cv2.NORM_MINMAX)\n",
    "print(np.min(filtered3))\n",
    "print(np.max(filtered3))                         \n",
    "cv2.imwrite(\"output3.png\", filtered3)\n",
    "\n",
    "\n",
    "#plt.imshow(cv2.cvtColor(filtered, cv2.COLOR_BGR2RGB))"
   ]
  },
  {
   "cell_type": "code",
   "execution_count": 27,
   "metadata": {},
   "outputs": [
    {
     "data": {
      "text/plain": [
       "True"
      ]
     },
     "execution_count": 27,
     "metadata": {},
     "output_type": "execute_result"
    }
   ],
   "source": [
    "src = cv2.imread('shape.png', cv2.IMREAD_GRAYSCALE)\n",
    "src2 = src.astype('int16')\n",
    "\n",
    "kernel = np.array([[0,1,0],\n",
    "                   [0,0,0],\n",
    "                   [0,-1,0]\n",
    "                  ])\n",
    "filtered = cv2.filter2D(src2, -1, kernel)\n",
    "cv2.imwrite(\"output.png\", filtered)\n",
    "\n",
    "# 수평 edge만 나오고 수직 edge는 검출이 안됨."
   ]
  },
  {
   "cell_type": "code",
   "execution_count": 28,
   "metadata": {},
   "outputs": [
    {
     "data": {
      "text/plain": [
       "True"
      ]
     },
     "execution_count": 28,
     "metadata": {},
     "output_type": "execute_result"
    }
   ],
   "source": [
    "src = cv2.imread('shape.png', cv2.IMREAD_GRAYSCALE)\n",
    "src2 = src.astype('int16')\n",
    "\n",
    "kernel = np.array([[0,0,0],\n",
    "                   [1,0,-1],\n",
    "                   [0,0,0]\n",
    "                  ])\n",
    "filtered = cv2.filter2D(src2, -1, kernel)\n",
    "cv2.imwrite(\"output.png\", filtered)\n",
    "\n",
    "# 수직 edge만 나오고 수평 edge는 검출이 안됨.\n",
    "# 수평, 수직 모두 검출하고싶다면 둘을 더해줘야한다."
   ]
  },
  {
   "cell_type": "code",
   "execution_count": 29,
   "metadata": {},
   "outputs": [
    {
     "data": {
      "text/plain": [
       "True"
      ]
     },
     "execution_count": 29,
     "metadata": {},
     "output_type": "execute_result"
    }
   ],
   "source": [
    "src = cv2.imread('shape2.png', cv2.IMREAD_GRAYSCALE)\n",
    "src2 = src.astype('int16')\n",
    "\n",
    "kernel = np.array([[0,0,0],\n",
    "                   [1,0,-1],\n",
    "                   [0,0,0]\n",
    "                  ])\n",
    "filtered = cv2.filter2D(src2, -1, kernel)\n",
    "cv2.imwrite(\"output_shape.png\", filtered)"
   ]
  },
  {
   "cell_type": "markdown",
   "metadata": {},
   "source": [
    "> ### 영역처리를 통한 edge 검출 활용 \n",
    "\n",
    "<br> 다양한 형태의 미분(좌우를 뺀다거나 대각선을 뺀다던가 하는 등 필터)을 통해서\n",
    "\n",
    "- 반도체 불량 검사\n",
    "- 자율주행차 차선, 자율주행 빗물 반사\n",
    "- 동전 인식\n",
    "- 바둑판 인식 등등"
   ]
  },
  {
   "cell_type": "code",
   "execution_count": null,
   "metadata": {},
   "outputs": [],
   "source": []
  }
 ],
 "metadata": {
  "kernelspec": {
   "display_name": "Python 3",
   "language": "python",
   "name": "python3"
  },
  "language_info": {
   "codemirror_mode": {
    "name": "ipython",
    "version": 3
   },
   "file_extension": ".py",
   "mimetype": "text/x-python",
   "name": "python",
   "nbconvert_exporter": "python",
   "pygments_lexer": "ipython3",
   "version": "3.7.4"
  }
 },
 "nbformat": 4,
 "nbformat_minor": 2
}
