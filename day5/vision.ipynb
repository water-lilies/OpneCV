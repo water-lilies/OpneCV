{
 "cells": [
  {
   "cell_type": "code",
   "execution_count": 1,
   "metadata": {
    "ExecuteTime": {
     "end_time": "2020-01-10T06:55:21.346288Z",
     "start_time": "2020-01-10T06:55:21.127590Z"
    }
   },
   "outputs": [],
   "source": [
    "import cv2, numpy as np\n",
    "import time\n",
    "from matplotlib import pyplot as plt\n",
    "%matplotlib inline\n",
    "\n",
    "def imshow(tit, image) :\n",
    "    plt.title(tit)    \n",
    "    if len(image.shape) == 3 :\n",
    "        plt.imshow(cv2.cvtColor(image, cv2.COLOR_BGR2RGB))\n",
    "    else :\n",
    "        plt.imshow(image, cmap=\"gray\")\n",
    "    plt.show()"
   ]
  },
  {
   "cell_type": "code",
   "execution_count": null,
   "metadata": {
    "ExecuteTime": {
     "end_time": "2020-01-10T00:32:19.802770Z",
     "start_time": "2020-01-10T00:32:19.681225Z"
    }
   },
   "outputs": [],
   "source": [
    "image = cv2.imread('ocr-text.png',0)   \n",
    "#img_blur = cv2.GaussianBlur(image, (3,3), 0)\n",
    "binary = cv2.adaptiveThreshold(image, 255,\n",
    "          cv2.ADAPTIVE_THRESH_GAUSSIAN_C, \n",
    "          cv2.THRESH_BINARY, 21, 5)\n",
    "imshow(\"\", binary)\n",
    "cv2.imwrite(\"out.png\", binary)"
   ]
  },
  {
   "cell_type": "code",
   "execution_count": 3,
   "metadata": {
    "ExecuteTime": {
     "end_time": "2020-01-10T06:55:37.549439Z",
     "start_time": "2020-01-10T06:55:37.518164Z"
    }
   },
   "outputs": [],
   "source": [
    "import pytesseract\n",
    "pytesseract.pytesseract.tesseract_cmd = r'C:\\Program Files\\Tesseract-OCR\\tesseract'\n",
    "\n"
   ]
  },
  {
   "cell_type": "code",
   "execution_count": null,
   "metadata": {},
   "outputs": [],
   "source": [
    "image = cv2.imread(\"book.jpg\")\n",
    "gray = cv2.cvtColor(image, cv2.COLOR_BGR2GRAY)\n",
    "gray = cv2.GaussianBlur(gray, (3, 3), 0)\n",
    "edged = cv2.Canny(gray, 10, 250)\n",
    "kernel = cv2.getStructuringElement(cv2.MORPH_RECT, (7, 7))\n",
    "closed = cv2.morphologyEx(edged, cv2.MORPH_CLOSE, kernel)\n",
    "cnts, _ = cv2.findContours(closed.copy(), cv2.RETR_EXTERNAL, cv2.CHAIN_APPROX_SIMPLE)\n",
    "total = 0\n",
    "\n",
    "for c in cnts:\n",
    "    peri = cv2.arcLength(c, True)\n",
    "    approx = cv2.approxPolyDP(c, 0.02 * peri, True)\n",
    "\n",
    "    if len(approx) == 4:\n",
    "        cv2.drawContours(image, [approx], -1, (0, 255, 0), 4)\n",
    "        total += 1\n",
    "print(\"I found {0} books in that image\".format(total))\n",
    "imshow(\"Output\", image)"
   ]
  },
  {
   "cell_type": "code",
   "execution_count": null,
   "metadata": {},
   "outputs": [],
   "source": [
    "from collections import Counter\n",
    "\n",
    "def detect_weiqi(img):  \n",
    "    txt = 'black'\n",
    "    gray = cv2.cvtColor(img, cv2.COLOR_BGR2GRAY)\n",
    "    _, threshold = cv2.threshold(gray, 100, 255, cv2.THRESH_BINARY)\n",
    "\n",
    "    c = Counter(list(threshold.flatten()))\n",
    "    print(c.most_common())\n",
    "    if c.most_common()[0][0] != 0:\n",
    "        txt = 'white'\n",
    "    return txt, threshold\n",
    "\n",
    "\n",
    "img = cv2.imread('stone.png')\n",
    "img = cv2.medianBlur(img, 5)\n",
    "gray = cv2.cvtColor(img, cv2.COLOR_BGR2GRAY)\n",
    "# 해상도,  원간 최소 거리      edge threshold       circle 중심점 histogram수,\n",
    "# 1,        20,             param1=100,  param2=30, minRadius=10, maxRadius=50\n",
    "# param1 : edge threshold low ->  edge가 검출되어 같은 원이 검출됨\n",
    "# param2 : 중심점 histogram 수가 작으면 많은 원이 검출됨\n",
    "\n",
    "circles = cv2.HoughCircles(gray, cv2.HOUGH_GRADIENT,\n",
    "                           1, 20, param1=100, param2=30, \n",
    "                           minRadius=10, maxRadius=50)\n",
    "\n",
    "print(circles)\n",
    "\n",
    "\n",
    "circles = np.uint16(np.around(circles))\n",
    "print(circles)\n",
    "\n",
    "font = cv2.FONT_HERSHEY_SIMPLEX\n",
    "for i in circles[0, :]:\n",
    "    x, y, r = i    \n",
    "    cv2.circle(img, (x, y), r, (0, 0, 255), 5)\n",
    "    \n",
    "    crop_img = img[y - r:y + r, x - r:x + r]    \n",
    "    txt, threshold = detect_weiqi(crop_img)\n",
    "    \n",
    "    if txt == 'black' :  \n",
    "        cv2.circle(img, (x, y),int(r*0.7), (0, 0, 0), -1)\n",
    "    else :\n",
    "        cv2.circle(img, (x, y), int(r*0.7), (255, 255, 255), -1)            \n",
    "\n",
    "\n",
    "imshow(\"\", img)"
   ]
  },
  {
   "cell_type": "code",
   "execution_count": 3,
   "metadata": {
    "ExecuteTime": {
     "end_time": "2020-01-10T05:04:45.876964Z",
     "start_time": "2020-01-10T05:04:45.862516Z"
    }
   },
   "outputs": [
    {
     "ename": "AttributeError",
     "evalue": "'NoneType' object has no attribute 'shape'",
     "output_type": "error",
     "traceback": [
      "\u001b[1;31m---------------------------------------------------------------------------\u001b[0m",
      "\u001b[1;31mAttributeError\u001b[0m                            Traceback (most recent call last)",
      "\u001b[1;32m<ipython-input-3-606e044be2d7>\u001b[0m in \u001b[0;36m<module>\u001b[1;34m\u001b[0m\n\u001b[0;32m      1\u001b[0m \u001b[0mimg\u001b[0m \u001b[1;33m=\u001b[0m \u001b[0mcv2\u001b[0m\u001b[1;33m.\u001b[0m\u001b[0mimread\u001b[0m\u001b[1;33m(\u001b[0m\u001b[1;34m'lena.jpg'\u001b[0m\u001b[1;33m)\u001b[0m\u001b[1;33m\u001b[0m\u001b[1;33m\u001b[0m\u001b[0m\n\u001b[1;32m----> 2\u001b[1;33m \u001b[0mheight\u001b[0m\u001b[1;33m,\u001b[0m \u001b[0mwidth\u001b[0m \u001b[1;33m=\u001b[0m \u001b[0mimg\u001b[0m\u001b[1;33m.\u001b[0m\u001b[0mshape\u001b[0m\u001b[1;33m[\u001b[0m\u001b[1;33m:\u001b[0m\u001b[1;36m2\u001b[0m\u001b[1;33m]\u001b[0m\u001b[1;33m\u001b[0m\u001b[1;33m\u001b[0m\u001b[0m\n\u001b[0m\u001b[0;32m      3\u001b[0m \u001b[1;33m\u001b[0m\u001b[0m\n\u001b[0;32m      4\u001b[0m M = np.float32([\n\u001b[0;32m      5\u001b[0m     \u001b[1;33m[\u001b[0m\u001b[1;36m1\u001b[0m\u001b[1;33m,\u001b[0m\u001b[1;36m0\u001b[0m\u001b[1;33m,\u001b[0m\u001b[1;36m20\u001b[0m\u001b[1;33m]\u001b[0m\u001b[1;33m,\u001b[0m\u001b[1;33m\u001b[0m\u001b[1;33m\u001b[0m\u001b[0m\n",
      "\u001b[1;31mAttributeError\u001b[0m: 'NoneType' object has no attribute 'shape'"
     ]
    }
   ],
   "source": [
    "img = cv2.imread('lena.jpg')\n",
    "height, width = img.shape[:2]\n",
    "\n",
    "M = np.float32([\n",
    "    [1,0,20],\n",
    "    [0,1,30]])\n",
    "dst = cv2.warpAffine(img, M,(width, height),\n",
    "                         borderValue=( int(c[0]), int(c[1]), int(c[2]) ))\n",
    "imshow(\"\", dst)"
   ]
  },
  {
   "cell_type": "code",
   "execution_count": null,
   "metadata": {},
   "outputs": [],
   "source": [
    "height, width = img.shape[:2]\n",
    "img_center = (width / 2, height / 2)\n",
    "M = cv2.getRotationMatrix2D(img_center, 45, 1.0)  \n",
    "print(M)\n",
    "rotated_image = cv2.warpAffine(img, M, (width, height), \n",
    "        borderValue=(255,255,255))\n",
    "print(rotated_image.shape)\n",
    "imshow(\"\", rotated_image)"
   ]
  },
  {
   "cell_type": "code",
   "execution_count": 4,
   "metadata": {
    "ExecuteTime": {
     "end_time": "2020-01-10T06:55:45.754995Z",
     "start_time": "2020-01-10T06:55:45.739422Z"
    }
   },
   "outputs": [
    {
     "ename": "AttributeError",
     "evalue": "'NoneType' object has no attribute 'shape'",
     "output_type": "error",
     "traceback": [
      "\u001b[1;31m---------------------------------------------------------------------------\u001b[0m",
      "\u001b[1;31mAttributeError\u001b[0m                            Traceback (most recent call last)",
      "\u001b[1;32m<ipython-input-4-4838d9f723b1>\u001b[0m in \u001b[0;36m<module>\u001b[1;34m\u001b[0m\n\u001b[0;32m      1\u001b[0m \u001b[0mimg\u001b[0m \u001b[1;33m=\u001b[0m \u001b[0mcv2\u001b[0m\u001b[1;33m.\u001b[0m\u001b[0mimread\u001b[0m\u001b[1;33m(\u001b[0m\u001b[1;34m\"../img/namecard.png\"\u001b[0m\u001b[1;33m)\u001b[0m\u001b[1;33m\u001b[0m\u001b[1;33m\u001b[0m\u001b[0m\n\u001b[0;32m      2\u001b[0m \u001b[1;33m\u001b[0m\u001b[0m\n\u001b[1;32m----> 3\u001b[1;33m \u001b[0mheight\u001b[0m\u001b[1;33m,\u001b[0m \u001b[0mwidth\u001b[0m \u001b[1;33m=\u001b[0m \u001b[0mimg\u001b[0m\u001b[1;33m.\u001b[0m\u001b[0mshape\u001b[0m\u001b[1;33m[\u001b[0m\u001b[1;33m:\u001b[0m\u001b[1;36m2\u001b[0m\u001b[1;33m]\u001b[0m\u001b[1;33m\u001b[0m\u001b[1;33m\u001b[0m\u001b[0m\n\u001b[0m\u001b[0;32m      4\u001b[0m \u001b[1;33m\u001b[0m\u001b[0m\n\u001b[0;32m      5\u001b[0m \u001b[1;31m# 좌표 순서 - 상단왼쪽 끝, 상단오른쪽 끝, 하단왼쪽 끝, 하단오른쪽 끝\u001b[0m\u001b[1;33m\u001b[0m\u001b[1;33m\u001b[0m\u001b[1;33m\u001b[0m\u001b[0m\n",
      "\u001b[1;31mAttributeError\u001b[0m: 'NoneType' object has no attribute 'shape'"
     ]
    }
   ],
   "source": [
    "img = cv2.imread(\"../img/namecard.png\")\n",
    "\n",
    "height, width = img.shape[:2]\n",
    "\n",
    "# 좌표 순서 - 상단왼쪽 끝, 상단오른쪽 끝, 하단왼쪽 끝, 하단오른쪽 끝\n",
    "point_list = [[27, 179], [611,36], [118,534], [754,325]]\n",
    "\n",
    "pts1 = np.float32([list(point_list[0]),\n",
    "                   list(point_list[1]),\n",
    "                   list(point_list[2]),\n",
    "                   list(point_list[3])])\n",
    "pts1 = np.array([[27, 179], [611,36], [118,534], [754,325]], dtype=\"float32\")\n",
    "print(pts1)\n",
    "\n",
    "pts2 = np.float32([[0,0],[width,0],[0,height],[width,height]])\n",
    "print(pts2)\n",
    "\n",
    "\n",
    "pts2 = np.float32([[0,0],[width/2,0],[0,height/2],[width/2,height/2]])\n",
    "\n",
    "M = cv2.getPerspectiveTransform(pts1,pts2)\n",
    "print(M)\n",
    "\n",
    "\n",
    "#img_result = cv2.warpPerspective(img, M, (width,height))\n",
    "img_result = cv2.warpPerspective(img, M, (int(width/2),int(height/2)))\n",
    "imshow(\"\", img)\n",
    "imshow(\"\", img_result)"
   ]
  },
  {
   "cell_type": "code",
   "execution_count": null,
   "metadata": {},
   "outputs": [],
   "source": []
  }
 ],
 "metadata": {
  "kernelspec": {
   "display_name": "Python 3",
   "language": "python",
   "name": "python3"
  },
  "language_info": {
   "codemirror_mode": {
    "name": "ipython",
    "version": 3
   },
   "file_extension": ".py",
   "mimetype": "text/x-python",
   "name": "python",
   "nbconvert_exporter": "python",
   "pygments_lexer": "ipython3",
   "version": "3.7.4"
  },
  "varInspector": {
   "cols": {
    "lenName": 16,
    "lenType": 16,
    "lenVar": 40
   },
   "kernels_config": {
    "python": {
     "delete_cmd_postfix": "",
     "delete_cmd_prefix": "del ",
     "library": "var_list.py",
     "varRefreshCmd": "print(var_dic_list())"
    },
    "r": {
     "delete_cmd_postfix": ") ",
     "delete_cmd_prefix": "rm(",
     "library": "var_list.r",
     "varRefreshCmd": "cat(var_dic_list()) "
    }
   },
   "types_to_exclude": [
    "module",
    "function",
    "builtin_function_or_method",
    "instance",
    "_Feature"
   ],
   "window_display": false
  }
 },
 "nbformat": 4,
 "nbformat_minor": 2
}
